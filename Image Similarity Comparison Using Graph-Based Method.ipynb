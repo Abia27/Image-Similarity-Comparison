{
 "cells": [
  {
   "cell_type": "code",
   "execution_count": 17,
   "id": "f7828bfd",
   "metadata": {},
   "outputs": [],
   "source": [
    "import numpy as np\n",
    "import pandas as pd\n",
    "import cv2\n",
    "import matplotlib.pyplot as plt\n",
    "from scipy.optimize import linear_sum_assignment\n",
    "from skimage.metrics import structural_similarity as ssim\n",
    "from skimage.metrics import peak_signal_noise_ratio as psnr\n",
    "import cv2\n",
    "import cv2\n",
    "import numpy as np\n",
    "from skimage.metrics import mean_squared_error as mse\n",
    "import time"
   ]
  },
  {
   "cell_type": "code",
   "execution_count": 18,
   "id": "40ae9947",
   "metadata": {},
   "outputs": [],
   "source": [
    "def split_image_into_patches(image, patch_size): # Splitting images into patches \n",
    "    patches = []\n",
    "    height, width = image.shape[:2]\n",
    "    for y in range(0, height, patch_size):\n",
    "        for x in range(0, width, patch_size):\n",
    "            patch = image[y:y+patch_size, x:x+patch_size]\n",
    "            patches.append(patch)\n",
    "    return patches\n",
    "\n",
    "def apply_edge_detection(patches): # Applying canny edge detection\n",
    "    edges = []\n",
    "    for patch in patches:\n",
    "        gray_patch = cv2.cvtColor(patch, cv2.COLOR_BGR2GRAY)\n",
    "        edge = cv2.Canny(gray_patch, 50, 150)\n",
    "        edges.append(edge)\n",
    "    return edges\n",
    "\n",
    "def count_edges(patches): # Counting edges\n",
    "    edges = []\n",
    "    for patch in patches:\n",
    "        edges.append(np.count_nonzero(patch))\n",
    "    return edges\n",
    "\n",
    "def calculate_differences(features): # Calculating absolute difference \n",
    "    differences = []\n",
    "    num_patches = len(features)\n",
    "    for i in range(num_patches):\n",
    "        for j in range(num_patches):\n",
    "            difference = abs(features[i] - features[j])\n",
    "            differences.append({'Patch1': i, 'Patch2': j, 'Difference': difference})\n",
    "    return pd.DataFrame(differences)\n",
    "\n",
    "def display_image_and_patches(image, patches, patch_size): # Function to display image and it patches\n",
    "    height, width = image.shape[:2]\n",
    "    # Create an empty image with lines separating patches\n",
    "    output_image = np.copy(image)\n",
    "    for y in range(0, height, patch_size):\n",
    "        cv2.line(output_image, (0, y), (width, y), (0, 255, 0), 1)\n",
    "    for x in range(0, width, patch_size):\n",
    "        cv2.line(output_image, (x, 0), (x, height), (0, 255, 0), 1)\n",
    "    \n",
    "    # Display the original image and lines separating patches\n",
    "    cv2.imshow(\"Original Image with Patches\", output_image)\n",
    "    \n",
    "    # Display each individual patch with edge detection applied\n",
    "    for i, patch in enumerate(patches):\n",
    "        # Apply edge detection to the patch\n",
    "        edges = apply_edge_detection(patch)\n",
    "        # Display the patch with edges\n",
    "        cv2.imshow(f\"Patch {i} with Edges\", np.hstack((patch, edges)))\n",
    "    \n",
    "    cv2.waitKey(0)\n",
    "    cv2.destroyAllWindows()\n",
    "    return \n",
    "\n",
    "#Reading Images\n",
    "image1 = cv2.imread(r\"C:\\Users\\DELL\\Desktop\\img1.jpg\")\n",
    "image2 = cv2.imread(r\"C:\\Users\\DELL\\Desktop\\img2.jpg\")\n",
    "\n",
    "#Resizing image into size of other image\n",
    "target_height, target_width = image2.shape[:2]\n",
    "image1_new = cv2.resize(image1, (target_width, target_height))\n",
    "cv2.imwrite('image1_new.jpg', image1_new)\n",
    "\n",
    "# Splitting images into patches\n",
    "patch_size = 100\n",
    "patches_img1 = split_image_into_patches(image1_new, patch_size)\n",
    "patches_img2 = split_image_into_patches(image2, patch_size)\n",
    "\n",
    "#Displaying Images\n",
    "#display_image_and_patches(image1, patches_img1, patch_size)\n",
    "#display_image_and_patches(image2, patches_img2, patch_size)\n",
    "\n",
    "# Applying edge detection\n",
    "img1_edges = apply_edge_detection(patches_img1)\n",
    "img2_edges = apply_edge_detection(patches_img2)\n",
    "\n",
    "\n",
    "#Counting Edges\n",
    "img1_no_edges = count_edges(img1_edges)\n",
    "img2_no_edges = count_edges(img2_edges)\n",
    "img1"
   ]
  },
  {
   "cell_type": "code",
   "execution_count": 19,
   "id": "0e2011b0",
   "metadata": {},
   "outputs": [
    {
     "data": {
      "text/plain": [
       "array([[   0, 1391,  349, 1048,  671, 1017, 2393, 2453],\n",
       "       [1391,    0, 1740,  343,  720,  374, 1002, 1062],\n",
       "       [ 349, 1740,    0, 1397, 1020, 1366, 2742, 2802],\n",
       "       [1048,  343, 1397,    0,  377,   31, 1345, 1405],\n",
       "       [ 671,  720, 1020,  377,    0,  346, 1722, 1782],\n",
       "       [1017,  374, 1366,   31,  346,    0, 1376, 1436],\n",
       "       [2393, 1002, 2742, 1345, 1722, 1376,    0,   60],\n",
       "       [2453, 1062, 2802, 1405, 1782, 1436,   60,    0]], dtype=int64)"
      ]
     },
     "execution_count": 19,
     "metadata": {},
     "output_type": "execute_result"
    }
   ],
   "source": [
    "# Constructing graphs\n",
    "differences_df_img1 = calculate_differences(img1_no_edges)\n",
    "differences_df_img2 = calculate_differences(img2_no_edges)\n",
    "matrix1 =  differences_df_img1['Difference'].values\n",
    "matrix2 =  differences_df_img2['Difference'].values\n",
    "m1= matrix1.reshape(8,8)\n",
    "m2= matrix2.reshape(8,8)\n",
    "m2\n",
    "\n"
   ]
  },
  {
   "cell_type": "code",
   "execution_count": 20,
   "id": "e23762a5",
   "metadata": {},
   "outputs": [
    {
     "name": "stdout",
     "output_type": "stream",
     "text": [
      "Similarity Score: 3.2143497757847532\n"
     ]
    }
   ],
   "source": [
    "# Applying Hungarian Algorithm\n",
    "# Calculate differences and normalize\n",
    "diff_matrix = abs(m1 - m2)\n",
    "normalized_diff_matrix = diff_matrix / diff_matrix.max()\n",
    "# Invert for similarity\n",
    "cost_matrix = 1 - normalized_diff_matrix\n",
    "# Apply the Hungarian algorithm\n",
    "row_ind, col_ind = linear_sum_assignment(cost_matrix)\n",
    "# Calculate the similarity score \n",
    "similarity_score = cost_matrix[row_ind, col_ind].sum() \n",
    "\n",
    "print(\"Similarity Score:\", similarity_score)"
   ]
  },
  {
   "cell_type": "code",
   "execution_count": 21,
   "id": "36142738",
   "metadata": {},
   "outputs": [
    {
     "name": "stdout",
     "output_type": "stream",
     "text": [
      "Similarity Score: 3.2143497757847532\n",
      "Time taken: 0.0009975433349609375 seconds\n"
     ]
    }
   ],
   "source": [
    "import numpy as np\n",
    "from scipy.optimize import linear_sum_assignment\n",
    "import time\n",
    "\n",
    "# Assuming m1 and m2 are your matrices\n",
    "\n",
    "# Start time measurement\n",
    "start_time = time.time()\n",
    "\n",
    "# Calculate differences and normalize\n",
    "diff_matrix = np.abs(m1 - m2)\n",
    "normalized_diff_matrix = diff_matrix / diff_matrix.max()\n",
    "\n",
    "# Invert for similarity\n",
    "cost_matrix = 1 - normalized_diff_matrix\n",
    "\n",
    "# Apply the Hungarian algorithm\n",
    "row_ind, col_ind = linear_sum_assignment(cost_matrix)\n",
    "\n",
    "# Calculate the similarity score\n",
    "similarity_score = cost_matrix[row_ind, col_ind].sum()\n",
    "\n",
    "# End time measurement\n",
    "end_time = time.time()\n",
    "\n",
    "# Calculate the elapsed time\n",
    "elapsed_time = end_time - start_time\n",
    "\n",
    "print(\"Similarity Score:\", similarity_score)\n",
    "print(\"Time taken:\", elapsed_time, \"seconds\")\n"
   ]
  },
  {
   "cell_type": "code",
   "execution_count": 24,
   "id": "58887304",
   "metadata": {},
   "outputs": [
    {
     "name": "stdout",
     "output_type": "stream",
     "text": [
      "Structural Similarity Index (SSIM): 0.0621739025638859\n",
      "Time taken for SSIM calculation: 0.011968135833740234 seconds\n",
      "Root Mean Square Error (RMSE): 57.264719688865185\n",
      "Time taken for RMSE calculation: 0.000997304916381836 seconds\n",
      "Peak Signal-to-Noise Ratio (PSNR): 12.973060824957098\n",
      "Time taken for PSNR calculation: 0.0009987354278564453 seconds\n",
      "Image Structural Similarity Measure (ISSM): 6.517617363760492\n"
     ]
    }
   ],
   "source": [
    "# Convert images to grayscale (SSIM requires grayscale images)\n",
    "image1_gray = cv2.cvtColor(image1_new, cv2.COLOR_BGR2GRAY)\n",
    "image2_gray = cv2.cvtColor(image2, cv2.COLOR_BGR2GRAY)\n",
    "# Calculate SSIM\n",
    "ssim_score = ssim(image1_gray, image2_gray)\n",
    "# Measure time for SSIM calculation\n",
    "start_time = time.time()\n",
    "ssim_score = ssim(image1_gray, image2_gray)\n",
    "ssim_time = time.time() - start_time\n",
    "\n",
    "\n",
    "# Calculate RMSE\n",
    "rmse_score = np.sqrt(mse(image1_gray, image2_gray))\n",
    "# Measure time for RMSE calculation\n",
    "start_time = time.time()\n",
    "rmse_score = np.sqrt(mse(image1_gray, image2_gray))\n",
    "rmse_time = time.time() - start_time\n",
    "\n",
    "# Calculate PSNR\n",
    "psnr_score = psnr(image1_gray, image2_gray)\n",
    "# ISSM is combination ssim and psnr score\n",
    "issm_score = (ssim_score + psnr_score) / 2\n",
    "# Measure time for PSNR calculation\n",
    "start_time = time.time()\n",
    "psnr_score = psnr(image1_gray, image2_gray)\n",
    "psnr_time = time.time() - start_time\n",
    "\n",
    "\n",
    "# Print the results\n",
    "print(\"Structural Similarity Index (SSIM):\", ssim_score)\n",
    "print(\"Time taken for SSIM calculation:\", ssim_time, \"seconds\")\n",
    "print(\"Root Mean Square Error (RMSE):\", rmse_score)\n",
    "print(\"Time taken for RMSE calculation:\", rmse_time, \"seconds\")\n",
    "print(\"Peak Signal-to-Noise Ratio (PSNR):\", psnr_score)\n",
    "print(\"Time taken for PSNR calculation:\", psnr_time, \"seconds\")\n",
    "print(\"Image Structural Similarity Measure (ISSM):\", issm_score)\n"
   ]
  },
  {
   "cell_type": "code",
   "execution_count": null,
   "id": "ed047088",
   "metadata": {},
   "outputs": [],
   "source": []
  }
 ],
 "metadata": {
  "kernelspec": {
   "display_name": "Python 3 (ipykernel)",
   "language": "python",
   "name": "python3"
  },
  "language_info": {
   "codemirror_mode": {
    "name": "ipython",
    "version": 3
   },
   "file_extension": ".py",
   "mimetype": "text/x-python",
   "name": "python",
   "nbconvert_exporter": "python",
   "pygments_lexer": "ipython3",
   "version": "3.11.4"
  }
 },
 "nbformat": 4,
 "nbformat_minor": 5
}
